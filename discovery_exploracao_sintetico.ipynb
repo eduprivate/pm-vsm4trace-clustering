{
 "cells": [
  {
   "cell_type": "code",
   "execution_count": null,
   "id": "775415ea-b10f-493b-8331-99250934e6b5",
   "metadata": {},
   "outputs": [],
   "source": [
    "# Process Mining\n",
    "## Trace Clustering "
   ]
  },
  {
   "cell_type": "code",
   "execution_count": null,
   "id": "733aad9c-ab0c-4e3b-99f5-c8a4de465678",
   "metadata": {},
   "outputs": [],
   "source": [
    "import pm4py\n",
    "import pandas as pd"
   ]
  },
  {
   "cell_type": "code",
   "execution_count": null,
   "id": "9f4b9070-835e-4a60-8632-59c18d351fb9",
   "metadata": {},
   "outputs": [],
   "source": [
    "event_log = pm4py.read_xes('logs/sintetico_completo.xes', sep=',')\n",
    "#lawsuit_id,date,movement,order,status,area,subject_matter,control,digital,class,distribution_date,court_department,claim_amount,judge\n",
    "event_log = pm4py.format_dataframe(event_log, case_id='case:concept:name', activity_key='Activity', timestamp_key='time:timestamp')\n",
    "event_log['time:timestamp']=pd.to_datetime(event_log['time:timestamp'], utc=True) # format the timestamp column"
   ]
  },
  {
   "cell_type": "code",
   "execution_count": null,
   "id": "3f621cb9-f94d-4948-bb56-5676794a2cc4",
   "metadata": {},
   "outputs": [],
   "source": [
    "event_log.head()"
   ]
  },
  {
   "cell_type": "code",
   "execution_count": null,
   "id": "3d559346-d519-4796-bd31-d4a440de99d4",
   "metadata": {},
   "outputs": [],
   "source": [
    "_sint1 = event_log[event_log['case:concept:name'] =='2778'] \n",
    "_sint1.to_csv('_sint1.csv')\n",
    "_sint1"
   ]
  },
  {
   "cell_type": "code",
   "execution_count": null,
   "id": "63fd7458-4088-4654-973c-88768bd6f73b",
   "metadata": {},
   "outputs": [],
   "source": [
    "_sint2 = event_log[event_log['case:concept:name'] =='1956'] \n",
    "_sint2.to_csv('_sint2.csv')\n",
    "_sint2"
   ]
  },
  {
   "cell_type": "code",
   "execution_count": null,
   "id": "10b3fd93-74b9-4fea-805c-61398fa70efa",
   "metadata": {},
   "outputs": [],
   "source": [
    "_6686 = event_log[event_log['case:concept:name'] =='6686'] \n",
    "_6686.to_csv('_6686.csv')\n",
    "_6686"
   ]
  },
  {
   "cell_type": "code",
   "execution_count": null,
   "id": "2026bd9a-73cc-40c6-9eb8-17db1c66cfa4",
   "metadata": {},
   "outputs": [],
   "source": [
    "### Exploiting Pandas"
   ]
  },
  {
   "cell_type": "code",
   "execution_count": null,
   "id": "861db847-009c-40d9-9155-cc73cf38165d",
   "metadata": {},
   "outputs": [],
   "source": [
    "#### Number of Cases"
   ]
  },
  {
   "cell_type": "code",
   "execution_count": null,
   "id": "02293f50-3599-42c4-95eb-c14af0a59dbf",
   "metadata": {},
   "outputs": [],
   "source": [
    "event_log['elementId'].nunique()"
   ]
  },
  {
   "cell_type": "code",
   "execution_count": null,
   "id": "ed504535-a72c-4831-996f-ec763140875a",
   "metadata": {},
   "outputs": [],
   "source": [
    "#### Activity Ocurrences"
   ]
  },
  {
   "cell_type": "code",
   "execution_count": null,
   "id": "e54cabea-7ec5-437c-811f-41e714c2a7c1",
   "metadata": {},
   "outputs": [],
   "source": [
    "event_log[\"concept:name\"].value_counts()"
   ]
  },
  {
   "cell_type": "code",
   "execution_count": null,
   "id": "89db5dcf-9990-4543-a829-876c2191e1fe",
   "metadata": {},
   "outputs": [],
   "source": [
    "#### Activities in Cases"
   ]
  },
  {
   "cell_type": "code",
   "execution_count": null,
   "id": "0865b2b8-b3e7-4f34-955d-c0f5bff7f550",
   "metadata": {},
   "outputs": [],
   "source": [
    "event_log.groupby([\"elementId\", \"concept:name\"]).first().reset_index()[\"concept:name\"].value_counts()"
   ]
  },
  {
   "cell_type": "code",
   "execution_count": null,
   "id": "571defb2-3887-4347-9846-12ee28915199",
   "metadata": {},
   "outputs": [],
   "source": [
    "#### Start Activities"
   ]
  },
  {
   "cell_type": "code",
   "execution_count": null,
   "id": "62c3b519-fcac-412e-8e4c-ee97f432a25c",
   "metadata": {},
   "outputs": [],
   "source": [
    "event_log.groupby(\"elementId\").first()[\"concept:name\"].value_counts()"
   ]
  },
  {
   "cell_type": "code",
   "execution_count": null,
   "id": "8c229460-09ad-4424-a168-942c8bac42a2",
   "metadata": {},
   "outputs": [],
   "source": [
    "#### End Activities"
   ]
  },
  {
   "cell_type": "code",
   "execution_count": null,
   "id": "dd911ab4-7b67-40cd-9d69-f9381e5343a4",
   "metadata": {},
   "outputs": [],
   "source": [
    "event_log.groupby(\"elementId\").last()[\"concept:name\"].value_counts()"
   ]
  },
  {
   "cell_type": "code",
   "execution_count": null,
   "id": "c6f63f93-954f-45dd-9b4f-4cd809911553",
   "metadata": {},
   "outputs": [],
   "source": [
    "## Data Exploration"
   ]
  },
  {
   "cell_type": "code",
   "execution_count": null,
   "id": "68aa4f68-664e-413a-9938-7e29ee85a0d3",
   "metadata": {},
   "outputs": [],
   "source": [
    "pm4py.view_events_distribution_graph(event_log, distr_type=\"days_week\") # Matplotlib inside!"
   ]
  },
  {
   "cell_type": "code",
   "execution_count": null,
   "id": "a8bece1b-109a-422c-b82f-56b9f73ff85d",
   "metadata": {},
   "outputs": [],
   "source": [
    "#### Events per Hour"
   ]
  },
  {
   "cell_type": "code",
   "execution_count": null,
   "id": "ecbf4e35-00de-4f27-afd2-9b12b30b3608",
   "metadata": {},
   "outputs": [],
   "source": [
    "pm4py.view_events_distribution_graph(event_log, distr_type=\"hours\") # Matplotlib inside!"
   ]
  },
  {
   "cell_type": "code",
   "execution_count": null,
   "id": "574ae229-a19a-47f9-9bcc-3391a248941a",
   "metadata": {},
   "outputs": [],
   "source": [
    "#### Event Distribution Plot"
   ]
  },
  {
   "cell_type": "code",
   "execution_count": null,
   "id": "36462276-bb80-4c9c-a556-90d43cb34858",
   "metadata": {},
   "outputs": [],
   "source": [
    "pm4py.view_events_per_time_graph(event_log) # Matplotlib inside!"
   ]
  },
  {
   "cell_type": "code",
   "execution_count": null,
   "id": "e0d22788-4f25-4baa-b56f-2203e509c5d5",
   "metadata": {},
   "outputs": [],
   "source": [
    "#### Case Duration Distribution"
   ]
  },
  {
   "cell_type": "code",
   "execution_count": null,
   "id": "17d1814d-80df-40cf-9a1a-e558b23350a0",
   "metadata": {},
   "outputs": [],
   "source": [
    "pm4py.view_case_duration_graph(event_log) # Matplotlib inside!"
   ]
  },
  {
   "cell_type": "code",
   "execution_count": null,
   "id": "4497a262-5808-45ac-8c40-6624b73d59ce",
   "metadata": {},
   "outputs": [],
   "source": [
    "## Fun with Process Maps (and Graphy Theory)"
   ]
  },
  {
   "cell_type": "code",
   "execution_count": null,
   "id": "557c954d-a8b6-4258-9ac1-2d2c05b7be81",
   "metadata": {},
   "outputs": [],
   "source": [
    "dfg = pm4py.discover_dfg(event_log)\n",
    "print(dfg[0]) # graph structure"
   ]
  },
  {
   "cell_type": "code",
   "execution_count": null,
   "id": "1b3511e1-3260-4705-8bdf-d0aeb53d9538",
   "metadata": {},
   "outputs": [],
   "source": [
    "#### Start Activities"
   ]
  },
  {
   "cell_type": "code",
   "execution_count": null,
   "id": "8df3bd96-7a06-451d-a96d-1aeafea736f7",
   "metadata": {},
   "outputs": [],
   "source": [
    "print(dfg[1]) # start activities"
   ]
  },
  {
   "cell_type": "code",
   "execution_count": null,
   "id": "e0cf8138-36f6-4654-84ed-384759cba275",
   "metadata": {},
   "outputs": [],
   "source": [
    "#### End Activities"
   ]
  },
  {
   "cell_type": "code",
   "execution_count": null,
   "id": "3d6a93d7-5094-4c94-a115-6b49fd99e5e8",
   "metadata": {},
   "outputs": [],
   "source": [
    "print(dfg[2]) # end activities"
   ]
  },
  {
   "cell_type": "code",
   "execution_count": null,
   "id": "d83514f8-a09f-4082-ad4f-d27871cadc68",
   "metadata": {},
   "outputs": [],
   "source": [
    "#### Visualizing the Process Map"
   ]
  },
  {
   "cell_type": "code",
   "execution_count": null,
   "id": "9042cee4-ec40-4b03-9b0a-57f9fb3c5898",
   "metadata": {},
   "outputs": [],
   "source": [
    "pm4py.view_dfg(dfg[0], dfg[1], dfg[2])"
   ]
  },
  {
   "cell_type": "code",
   "execution_count": null,
   "id": "f150be2d-f261-4632-a557-0eba2550e14b",
   "metadata": {},
   "outputs": [],
   "source": [
    "### Graph Theory for Process Maps (using NetworkX)\n"
   ]
  },
  {
   "cell_type": "code",
   "execution_count": null,
   "id": "4eaa0d0b-6930-45b2-96f8-21ffae51050e",
   "metadata": {},
   "outputs": [],
   "source": [
    "#### Converting the Process Map"
   ]
  },
  {
   "cell_type": "code",
   "execution_count": null,
   "id": "2b12b030-be73-41f2-8c3a-f251597ac908",
   "metadata": {},
   "outputs": [],
   "source": [
    "%matplotlib inline\n",
    "import networkx as nx\n",
    "import itertools as it\n",
    "G = nx.DiGraph()\n",
    "alphabet = set(list(it.chain.from_iterable([[a,b] for (a,b) in dfg[0]]))).union(dfg[1].keys()).union(dfg[2].keys())\n",
    "G.add_nodes_from(alphabet) # adding nodes\n",
    "nx.draw(G, with_labels = True)"
   ]
  },
  {
   "cell_type": "code",
   "execution_count": null,
   "id": "38d2f8c2-fdca-4189-86b8-88c2e4d7d507",
   "metadata": {},
   "outputs": [],
   "source": [
    "#### Adding Arcs"
   ]
  },
  {
   "cell_type": "code",
   "execution_count": null,
   "id": "dd93aafc-2223-4882-8d59-e95ad7cad8cd",
   "metadata": {},
   "outputs": [],
   "source": [
    "G.add_edges_from(dfg[0].keys())\n",
    "nx.draw(G, with_labels = True)"
   ]
  },
  {
   "cell_type": "code",
   "execution_count": null,
   "id": "4c9084c0-e8ba-4d8e-8278-2a7b0db999b9",
   "metadata": {},
   "outputs": [],
   "source": [
    "### Degree of Vertices"
   ]
  },
  {
   "cell_type": "code",
   "execution_count": null,
   "id": "8f5e4415-616e-4f83-8fff-2ec984d2a943",
   "metadata": {},
   "outputs": [],
   "source": [
    "sorted([(n, i) for (n,i) in G.in_degree()], key=lambda t: t[1], reverse=True)"
   ]
  },
  {
   "cell_type": "code",
   "execution_count": null,
   "id": "4ba5efcc-b1be-4afa-ac53-8f50b46cf58a",
   "metadata": {},
   "outputs": [],
   "source": [
    "### Dominator of a Graph"
   ]
  },
  {
   "cell_type": "code",
   "execution_count": null,
   "id": "40ef0b44-5167-42d8-b536-0112747620e0",
   "metadata": {},
   "outputs": [],
   "source": [
    "nx.immediate_dominators(G, 'Decisão')"
   ]
  },
  {
   "cell_type": "code",
   "execution_count": null,
   "id": "30820fa9-373e-44c1-83af-b46fc6be2116",
   "metadata": {},
   "outputs": [],
   "source": [
    "### Centrality of a Node"
   ]
  },
  {
   "cell_type": "code",
   "execution_count": null,
   "id": "be5b4072-a7ca-4906-9caa-e03f25cfd6f9",
   "metadata": {},
   "outputs": [],
   "source": [
    "sorted(nx.degree_centrality(G).items(), key=lambda t: t[1], reverse=True) "
   ]
  },
  {
   "cell_type": "code",
   "execution_count": null,
   "id": "fae80855-0d80-48f8-9799-65a8a17abc46",
   "metadata": {},
   "outputs": [],
   "source": [
    "## Discovering Process Models"
   ]
  },
  {
   "cell_type": "code",
   "execution_count": null,
   "id": "6976bc50-0049-4d7f-bb6e-e96fb897e4df",
   "metadata": {},
   "outputs": [],
   "source": [
    "### Discovering a BPMN Model (Raw Data)"
   ]
  },
  {
   "cell_type": "code",
   "execution_count": null,
   "id": "abc09822-8456-4d13-8a8b-5a75fd5ce7ce",
   "metadata": {},
   "outputs": [],
   "source": [
    "### Discovering a BPMN Model (Internal Filtering)"
   ]
  },
  {
   "cell_type": "code",
   "execution_count": null,
   "id": "c380d553-a308-4cc3-b6d4-d6d8a1d2e15e",
   "metadata": {
    "scrolled": true
   },
   "outputs": [],
   "source": [
    "bpmn_2 = pm4py.discover_bpmn_inductive(event_log, noise_threshold=0.1)\n",
    "pm4py.view_bpmn(bpmn_2)"
   ]
  },
  {
   "cell_type": "code",
   "execution_count": null,
   "id": "1c839333-7815-4a96-acac-fcf1e124204d",
   "metadata": {},
   "outputs": [],
   "source": [
    "from pm4py.objects.bpmn.exporter import exporter\n",
    "exporter.apply(bpmn_2, \"juris.bpmn\")"
   ]
  },
  {
   "cell_type": "code",
   "execution_count": null,
   "id": "7d16693e-b6fa-497a-a7da-cdfb24255e37",
   "metadata": {},
   "outputs": [],
   "source": [
    "## Checking Model Quality"
   ]
  },
  {
   "cell_type": "code",
   "execution_count": null,
   "id": "bbc87141-11a7-48e6-94ee-9bd835af0494",
   "metadata": {},
   "outputs": [],
   "source": [
    "### Converting the Model"
   ]
  },
  {
   "cell_type": "code",
   "execution_count": null,
   "id": "79f909dc-9045-4768-bbd4-6adc53f8ab35",
   "metadata": {},
   "outputs": [],
   "source": [
    "pn, im, fm = pm4py.convert_to_petri_net(bpmn_2)\n",
    "pm4py.view_petri_net(pn, im, fm)"
   ]
  },
  {
   "cell_type": "code",
   "execution_count": null,
   "id": "d38255d3-f641-49a0-b4fe-5bfb474eff89",
   "metadata": {},
   "outputs": [],
   "source": [
    "### Checking Behavioral Model Properties"
   ]
  },
  {
   "cell_type": "code",
   "execution_count": null,
   "id": "334a6d87-11b6-43ab-9d66-232625a425c5",
   "metadata": {},
   "outputs": [],
   "source": [
    "pm4py.check_soundness(pn, im, fm)"
   ]
  },
  {
   "cell_type": "code",
   "execution_count": null,
   "id": "00b3e522-760c-432b-9d15-f1d34091103a",
   "metadata": {},
   "outputs": [],
   "source": [
    "### Computing Quality Statistics"
   ]
  },
  {
   "cell_type": "code",
   "execution_count": null,
   "id": "7eec5055-638e-421a-a5c7-5c67a49aecca",
   "metadata": {},
   "outputs": [],
   "source": [
    "#### Fitness"
   ]
  },
  {
   "cell_type": "code",
   "execution_count": null,
   "id": "2d5bc585-162a-413a-9d37-5e947a2d0cd6",
   "metadata": {},
   "outputs": [],
   "source": [
    "pm4py.fitness_token_based_replay(event_log, pn, im, fm) # fast results; less accurate/explainable"
   ]
  },
  {
   "cell_type": "code",
   "execution_count": null,
   "id": "84eac50d-fe92-4d65-885d-65282f84e78d",
   "metadata": {},
   "outputs": [],
   "source": [
    "pm4py.fitness_alignments(event_log, pn, im, fm)"
   ]
  },
  {
   "cell_type": "code",
   "execution_count": null,
   "id": "b1b8f258-f1aa-4ad3-83ad-ee0929b4387a",
   "metadata": {},
   "outputs": [],
   "source": [
    "#### Precision"
   ]
  },
  {
   "cell_type": "code",
   "execution_count": null,
   "id": "ec34301c-3bb0-4605-b93a-1afd65fbbd5a",
   "metadata": {},
   "outputs": [],
   "source": [
    "pm4py.precision_alignments(event_log, pn, im, fm)"
   ]
  },
  {
   "cell_type": "code",
   "execution_count": null,
   "id": "07c97ebc-f249-4697-a666-51791b5f5f78",
   "metadata": {},
   "outputs": [],
   "source": [
    "#### Diagnostics"
   ]
  },
  {
   "cell_type": "code",
   "execution_count": null,
   "id": "5e13cfbc-770f-4e8c-94aa-32a1894cff6c",
   "metadata": {},
   "outputs": [],
   "source": [
    "alignments = pm4py.conformance_diagnostics_alignments(event_log, pn, im, fm)\n",
    "alignments[0]"
   ]
  },
  {
   "cell_type": "code",
   "execution_count": null,
   "id": "6c9ecbc9-9f35-4ad8-9db4-546e255875e9",
   "metadata": {},
   "outputs": [],
   "source": [
    "non_fitting = list(filter(lambda a: a['fitness']<1.0, alignments))\n",
    "non_fitting[0]"
   ]
  },
  {
   "cell_type": "code",
   "execution_count": null,
   "id": "0dfe6eea-bf8e-4ed4-8bc1-c4724373d2f6",
   "metadata": {},
   "outputs": [],
   "source": [
    "#### Reconstructing the Model Behavior"
   ]
  },
  {
   "cell_type": "code",
   "execution_count": null,
   "id": "fab50f78-0370-4633-8d6e-11661ca71998",
   "metadata": {},
   "outputs": [],
   "source": [
    "trace = list(map(lambda m: m[1], filter(lambda m: m[1] !='>>' and m[1] is not None, alignment)))\n",
    "trace"
   ]
  },
  {
   "cell_type": "code",
   "execution_count": null,
   "id": "ce8ea255-8032-452f-b52d-41e7611c121b",
   "metadata": {},
   "outputs": [],
   "source": [
    "### Comparing Footprints"
   ]
  },
  {
   "cell_type": "code",
   "execution_count": null,
   "id": "523db56d-25c0-42ea-8893-29b3162ffab7",
   "metadata": {
    "scrolled": true
   },
   "outputs": [],
   "source": [
    "from pm4py.algo.discovery.footprints import algorithm as footprints_discovery\n",
    "process_tree = pm4py.discover_process_tree_inductive(event_log, noise_threshold=0.1)\n",
    "fp_log = footprints_discovery.apply(event_log, variant=footprints_discovery.Variants.ENTIRE_EVENT_LOG)\n",
    "fp_model = footprints_discovery.apply(process_tree, variant=footprints_discovery.Variants.PROCESS_TREE)\n",
    "from pm4py.visualization.footprints import visualizer as fp_visualizer\n",
    "gviz = fp_visualizer.apply(fp_log, fp_model)\n",
    "fp_visualizer.view(gviz)"
   ]
  },
  {
   "cell_type": "code",
   "execution_count": null,
   "id": "7d879533-5c2f-4dc1-9882-ff8f9282696a",
   "metadata": {},
   "outputs": [],
   "source": [
    "### Machine Learning at the Case Level"
   ]
  },
  {
   "cell_type": "code",
   "execution_count": null,
   "id": "14081982-519f-49bd-970c-16cbf044e48c",
   "metadata": {},
   "outputs": [],
   "source": [
    "#### Attribute Inspection"
   ]
  },
  {
   "cell_type": "code",
   "execution_count": null,
   "id": "a4ce8869-aaaa-4888-8897-8025974e8bae",
   "metadata": {},
   "outputs": [],
   "source": [
    "pm4py.get_event_attributes(event_log)"
   ]
  },
  {
   "cell_type": "code",
   "execution_count": null,
   "id": "cac8eb0f-5a93-46b5-96db-f009a76162e1",
   "metadata": {},
   "outputs": [],
   "source": [
    "pm4py.get_trace_attributes(event_log)"
   ]
  },
  {
   "cell_type": "code",
   "execution_count": null,
   "id": "51c4d845-50f3-41b8-acd4-a65720ad1695",
   "metadata": {},
   "outputs": [],
   "source": [
    "#### Creating a Feature Table"
   ]
  },
  {
   "cell_type": "code",
   "execution_count": null,
   "id": "92f13e96-f093-40c0-9bed-9f847efa8ae1",
   "metadata": {},
   "outputs": [],
   "source": [
    "from pm4py.algo.transformation.log_to_features import algorithm as log_to_features\n",
    "ft, feature_names = log_to_features.apply(event_log, parameters={\"str_ev_attr\": [\"lawsuit_id\"],\n",
    "                                                \"str_tr_attr\": [\"concept:name\"],\n",
    "                                                \"num_ev_attr\": [], \"num_tr_attr\": [],\n",
    "                                                \"str_evsucc_attr\": [\"lawsuit_id\"]})\n",
    "pd.DataFrame(ft, columns=feature_names)"
   ]
  },
  {
   "cell_type": "code",
   "execution_count": null,
   "id": "a3703fa9-5a66-46ab-91c1-807a52d769ca",
   "metadata": {},
   "outputs": [],
   "source": [
    "#### Principal Component Analysis"
   ]
  },
  {
   "cell_type": "code",
   "execution_count": null,
   "id": "83a22ad7-b329-40e9-a6b6-deeb82664582",
   "metadata": {},
   "outputs": [],
   "source": [
    "from sklearn.decomposition import PCA\n",
    "pca = PCA(n_components=5)\n",
    "pca_df = pd.DataFrame(pca.fit_transform(ft))\n",
    "pca_df.rename({c: str(c) for c in pca_df.columns}, axis='columns') # renaming the columns to string\n",
    "pca_df"
   ]
  },
  {
   "cell_type": "code",
   "execution_count": null,
   "id": "8daf33e7-81ba-4d38-8b34-408e65ffcba7",
   "metadata": {},
   "outputs": [],
   "source": [
    "#### Outlier Detection"
   ]
  },
  {
   "cell_type": "code",
   "execution_count": null,
   "id": "82aa2f6e-4f96-42b4-a946-31e1c51b5938",
   "metadata": {},
   "outputs": [],
   "source": [
    "from sklearn.ensemble import IsolationForest\n",
    "model=IsolationForest()\n",
    "model.fit(pca_df)\n",
    "pca_df[\"scores\"] = model.decision_function(pca_df)\n",
    "pca_df.sort_values(\"scores\")"
   ]
  },
  {
   "cell_type": "code",
   "execution_count": null,
   "id": "6fd5d308-7597-4b15-9201-2409ae7b862e",
   "metadata": {},
   "outputs": [],
   "source": [
    "#### Concept Drift Detection"
   ]
  },
  {
   "cell_type": "code",
   "execution_count": null,
   "id": "0e633179-aeb3-4a84-a69c-1cb0fb2f8632",
   "metadata": {},
   "outputs": [],
   "source": [
    "from pm4py.algo.transformation.log_to_features.util import locally_linear_embedding\n",
    "from pm4py.visualization.graphs import visualizer\n",
    "\n",
    "x, y = locally_linear_embedding.apply(event_log)\n",
    "gviz = visualizer.apply(x, y, variant=visualizer.Variants.DATES, parameters={\"title\": \"Locally Linear Embedding\", \"y_axis\": \"Intensity\"})\n",
    "visualizer.view(gviz)"
   ]
  },
  {
   "cell_type": "code",
   "execution_count": null,
   "id": "d183dded-d5ee-46be-bfc1-e64b53bbb3df",
   "metadata": {},
   "outputs": [],
   "source": [
    "#### Clustering"
   ]
  },
  {
   "cell_type": "code",
   "execution_count": null,
   "id": "661fae4c-7120-455a-9f88-820725e5ff74",
   "metadata": {},
   "outputs": [],
   "source": [
    "from sklearn.cluster import KMeans\n",
    "clustering = KMeans(n_clusters=4)\n",
    "clustering.fit_predict(ft)"
   ]
  },
  {
   "cell_type": "code",
   "execution_count": null,
   "id": "fce3667d-c47e-4f02-aee9-f8b91d445809",
   "metadata": {},
   "outputs": [],
   "source": [
    "labels = clustering.labels_\n",
    "centroids = clustering.cluster_centers_\n",
    "\n",
    "l = clustering.fit_predict(ft)\n",
    "pca = PCA(n_components=2).fit(ft)\n",
    "datapoint = pca.transform(ft)\n",
    "import matplotlib.pyplot as plt\n",
    "%matplotlib inline\n",
    "plt.figure\n",
    "label1 = [\"#FFFF00\", \"#008000\", \"#0000FF\", \"#800080\", \"#800d00\"]\n",
    "color = [label1[i] for i in labels]\n",
    "plt.scatter(datapoint[:, 0], datapoint[:, 1], c=color)\n",
    "centroidpoint = pca.transform(centroids)\n",
    "plt.scatter(centroidpoint[:, 0], centroidpoint[:, 1], marker='^', s=150, c='#000000')\n",
    "plt.show()"
   ]
  },
  {
   "cell_type": "code",
   "execution_count": null,
   "id": "642013d3-d6e9-46d4-ba0a-bffd2d09e8f8",
   "metadata": {},
   "outputs": [],
   "source": [
    "#### Decision Point Mining"
   ]
  },
  {
   "cell_type": "code",
   "execution_count": null,
   "id": "882857bf-fcb2-4778-8ef4-3e13e0fc5566",
   "metadata": {},
   "outputs": [],
   "source": [
    "from pm4py.algo.decision_mining import algorithm as dem\n",
    "ft = dem.apply(event_log, pn, im, fm, decision_point='exi_id6046d342-19d8-46a9-a7f1-af0f14e43653')\n",
    "ft[0]"
   ]
  },
  {
   "cell_type": "code",
   "execution_count": null,
   "id": "4d64ad72-a067-4ca3-9d92-88cb0db89354",
   "metadata": {},
   "outputs": [],
   "source": [
    "ft[1]"
   ]
  },
  {
   "cell_type": "code",
   "execution_count": null,
   "id": "dcd59eba-043e-41df-a486-c833edcb4d5f",
   "metadata": {},
   "outputs": [],
   "source": [
    "from sklearn import tree\n",
    "clf = tree.DecisionTreeClassifier()\n",
    "clf.fit(ft[0], ft[1])\n",
    "tree.plot_tree(clf, \n",
    "                   feature_names=list(ft[0].columns.values),  \n",
    "                   class_names=['T13 Adjust document X request unlicensed', 'T11 Create document X request unlicensed'],\n",
    "                   filled=True)"
   ]
  },
  {
   "cell_type": "code",
   "execution_count": null,
   "id": "7a7d2a52-3aaa-48ad-8b6b-cc15277126c6",
   "metadata": {},
   "outputs": [],
   "source": [
    "#### Case Duration Prediction"
   ]
  },
  {
   "cell_type": "code",
   "execution_count": null,
   "id": "ace75cab-6677-4e4b-a5ac-9fdf25394e8e",
   "metadata": {},
   "outputs": [],
   "source": [
    "data, feature_names = log_to_features.apply(event_log, parameters={\"str_ev_attr\": [\"lawsuit_id\"],\n",
    "                                                \"str_tr_attr\": [\"concept:name\"],\n",
    "                                                \"num_ev_attr\": [], \"num_tr_attr\": [],\n",
    "                                                \"str_evsucc_attr\": [\"lawsuit_id\"]})\n",
    "#throughput_time = [y[-1][\"date\"].timestamp() - y[0][\"date\"].timestamp() for y in event_log]\n",
    "#throughput_time[0:5]\n",
    "data"
   ]
  },
  {
   "cell_type": "code",
   "execution_count": null,
   "id": "9a3d33fa-c372-4866-85f3-633e9c4b7eec",
   "metadata": {},
   "outputs": [],
   "source": [
    "import random\n",
    "training_cases = set(random.sample([i for i in range(len(event_log))], 500))\n",
    "data_training = [data[i] for i in range(len(event_log)) if i in training_cases]\n",
    "throughput_time_training = [throughput_time[i] for i in range(len(event_log)) if i in training_cases]"
   ]
  },
  {
   "cell_type": "code",
   "execution_count": null,
   "id": "10e5eb7c-1b06-44b2-8e8f-d8171e1567f8",
   "metadata": {},
   "outputs": [],
   "source": [
    "from sklearn.neighbors import KNeighborsRegressor\n",
    "regressor = KNeighborsRegressor(n_neighbors=3)\n",
    "regressor.fit(data_training, throughput_time_training)"
   ]
  },
  {
   "cell_type": "code",
   "execution_count": null,
   "id": "784cdc87-0f63-4e1d-aafd-c9ec02b8ba65",
   "metadata": {},
   "outputs": [],
   "source": [
    "data_validation = [data[i] for i in range(len(event_log)) if i not in training_cases]\n",
    "throughput_time_validation = [throughput_time[i] for i in range(len(event_log)) if i not in training_cases]"
   ]
  },
  {
   "cell_type": "code",
   "execution_count": null,
   "id": "f2374f9a-0c53-4e93-9512-d4c1d72b6897",
   "metadata": {},
   "outputs": [],
   "source": [
    "predicted_throughput_time = regressor.predict(data_validation)"
   ]
  },
  {
   "cell_type": "code",
   "execution_count": null,
   "id": "7fe589d8-ff40-4026-bcdd-603c6e3d32ba",
   "metadata": {},
   "outputs": [],
   "source": [
    "for i in range(5):\n",
    "    print(\"case actual throughput=\", throughput_time_validation[i], \" predicted throughput = \", predicted_throughput_time[i])"
   ]
  }
 ],
 "metadata": {
  "kernelspec": {
   "display_name": "Python 3 (ipykernel)",
   "language": "python",
   "name": "python3"
  },
  "language_info": {
   "codemirror_mode": {
    "name": "ipython",
    "version": 3
   },
   "file_extension": ".py",
   "mimetype": "text/x-python",
   "name": "python",
   "nbconvert_exporter": "python",
   "pygments_lexer": "ipython3",
   "version": "3.12.7"
  }
 },
 "nbformat": 4,
 "nbformat_minor": 5
}
