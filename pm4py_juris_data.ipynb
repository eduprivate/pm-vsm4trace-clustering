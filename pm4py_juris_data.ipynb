{
 "cells": [
  {
   "cell_type": "code",
   "execution_count": null,
   "id": "23e36c61-d76e-4133-afe4-7045d2e73821",
   "metadata": {},
   "outputs": [],
   "source": [
    "import pandas\n",
    "import pm4py"
   ]
  },
  {
   "cell_type": "code",
   "execution_count": null,
   "id": "69f6af8c-9c0b-4cc8-baaa-2c509aab5140",
   "metadata": {
    "scrolled": true
   },
   "outputs": [],
   "source": [
    "event_log = pandas.read_csv('logs/TJSP.csv', sep=',')\n",
    "#lawsuit_id,date,movement,order,status,area,subject_matter,control,digital,class,distribution_date,court_department,claim_amount,judge\n",
    "event_log = pm4py.format_dataframe(event_log, case_id='lawsuit_id', activity_key='movement', timestamp_key='date')\n",
    "start_activities = pm4py.get_start_activities(event_log)\n",
    "end_activities = pm4py.get_end_activities(event_log)\n",
    "print(\"Start activities: {}\\nEnd activities: {}\".format(start_activities, end_activities))\n",
    "# the log is filtered on the top 5 variants\n",
    "#filtered_log = pm4py.filter_variants_top_k(event_log , 5)"
   ]
  },
  {
   "cell_type": "code",
   "execution_count": null,
   "id": "b68b12ca-e4f4-418d-ad50-7d55c7eff074",
   "metadata": {},
   "outputs": [],
   "source": [
    "# a directly - follows graph (DFG) is discovered from the log\n",
    "dfg, start_activities, end_activities = pm4py.discover_dfg(event_log)\n"
   ]
  },
  {
   "cell_type": "code",
   "execution_count": null,
   "id": "612ccfc1-0c22-4fbb-8d49-630bbaf6957a",
   "metadata": {},
   "outputs": [],
   "source": [
    "# a process tree is discovered using the inductive miner\n",
    "process_tree = pm4py.discover_process_tree_inductive(event_log)"
   ]
  },
  {
   "cell_type": "code",
   "execution_count": null,
   "id": "001cc35d-5c6c-4744-8c1f-e9de3e07cf75",
   "metadata": {},
   "outputs": [],
   "source": [
    "# the process tree is converted to an accepting Petri net\n",
    "petri_net , initial_marking, final_marking = pm4py.convert_to_petri_net(process_tree)\n",
    "process_tree = pm4py.discover_process_tree_inductive(event_log)"
   ]
  },
  {
   "cell_type": "code",
   "execution_count": null,
   "id": "adf0e0bc-cc52-4b2e-a1c7-9ff01b303812",
   "metadata": {},
   "outputs": [],
   "source": [
    "# the accepting Petri net is converted to a BPMN diagram\n",
    "bpmn_diagram = pm4py.convert_to_bpmn(petri_net, initial_marking, final_marking)"
   ]
  },
  {
   "cell_type": "code",
   "execution_count": null,
   "id": "debfb7e1-b5b5-49a4-a1cc-6a53849bbd50",
   "metadata": {},
   "outputs": [],
   "source": [
    "# the discovered process models are shown on the screen as .svg images\n",
    "pm4py.view_dfg(dfg, start_activities, end_activities, format='png')\n",
    "pm4py.view_process_tree(process_tree , format='png')\n",
    "pm4py.view_petri_net(petri_net, initial_marking, final_marking, format='png')\n",
    "pm4py.view_bpmn(bpmn_diagram, format='png')"
   ]
  },
  {
   "cell_type": "code",
   "execution_count": null,
   "id": "0ffcedee-6028-42f7-8932-8fa61792a6a9",
   "metadata": {},
   "outputs": [],
   "source": [
    "# we compare the original log versus the discovered model\n",
    "fitness = pm4py.fitness_token_based_replay(event_log, petri_net, initial_marking, final_marking)\n",
    "precision = pm4py.precision_token_based_replay(event_log, petri_net, initial_marking, final_marking)\n",
    "print(fitness) # 0.984\n",
    "print(precision) # 0.758\n",
    "# we check if the discovered model is a sound workflow net\n",
    "is_sound_wfnet = pm4py.check_soundness(petri_net, initial_marking, final_marking)[0]\n",
    "print(is_sound_wfnet) # True"
   ]
  }
 ],
 "metadata": {
  "kernelspec": {
   "display_name": "Python 3 (ipykernel)",
   "language": "python",
   "name": "python3"
  },
  "language_info": {
   "codemirror_mode": {
    "name": "ipython",
    "version": 3
   },
   "file_extension": ".py",
   "mimetype": "text/x-python",
   "name": "python",
   "nbconvert_exporter": "python",
   "pygments_lexer": "ipython3",
   "version": "3.12.7"
  }
 },
 "nbformat": 4,
 "nbformat_minor": 5
}
